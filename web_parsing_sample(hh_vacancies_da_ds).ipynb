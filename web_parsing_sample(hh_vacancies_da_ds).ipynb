{
 "cells": [
  {
   "cell_type": "code",
   "execution_count": 1,
   "id": "115f0a2f",
   "metadata": {},
   "outputs": [],
   "source": [
    "import pandas as pd\n",
    "import warnings\n",
    "\n",
    "from selenium import webdriver\n",
    "from selenium.webdriver.chrome.service import Service\n",
    "from selenium.webdriver.common.by import By\n",
    "\n",
    "warnings.simplefilter(\"ignore\")"
   ]
  },
  {
   "cell_type": "markdown",
   "id": "1bddf95e",
   "metadata": {},
   "source": [
    "# Пример парсинга данных"
   ]
  },
  {
   "cell_type": "markdown",
   "id": "e158f235",
   "metadata": {},
   "source": [
    "В примере приводится вариант парсинга вакансий по направлениям \"Data analisis\" и 'Data science' на сайте по поиску вакансий HeadHunter('https://hh.ru/')."
   ]
  },
  {
   "cell_type": "markdown",
   "id": "26c74017",
   "metadata": {},
   "source": [
    "**Цель задачи**: получение информации о колличетве вакансий по указанным направлениям с учетом грейда (junior, middle, senior, without grade), размещенным в конкретном населенном пункте или пунктах (в текущем варианте Россиия - Москва и Нижний Новгород(Нижегородская область))\n",
    "\n",
    "В качестве используемого браузера выбран YandexBrowser."
   ]
  },
  {
   "cell_type": "code",
   "execution_count": 2,
   "id": "6c54b941",
   "metadata": {},
   "outputs": [],
   "source": [
    "options = webdriver.ChromeOptions()\n",
    "\n",
    "prefs = {\"profile.managed_default_content_settings.images\": 2}\n",
    "options.add_experimental_option(\"prefs\", prefs)\n",
    "\n",
    "binary_yandex_driver_file = Service(executable_path=r'C:\\Users\\lebeda\\yandexdriver-23.9.0.2209-win64\\yandexdriver.exe')\n",
    "\n",
    "driver = webdriver.Chrome(service=binary_yandex_driver_file, options=options)"
   ]
  },
  {
   "cell_type": "code",
   "execution_count": 3,
   "id": "c15bf442",
   "metadata": {},
   "outputs": [],
   "source": [
    "driver.get('https://hh.ru/')"
   ]
  },
  {
   "cell_type": "code",
   "execution_count": 4,
   "id": "e87a1bad",
   "metadata": {},
   "outputs": [],
   "source": [
    "#функция поиска элемента страницы по CSS-селектору\n",
    "def find_element(page_element):\n",
    "    return driver.find_element(By.CSS_SELECTOR, page_element)"
   ]
  },
  {
   "cell_type": "code",
   "execution_count": 5,
   "id": "6191108c",
   "metadata": {},
   "outputs": [],
   "source": [
    "#функция нажатия(клика) по найденному элементу\n",
    "def click_element(page_element):\n",
    "    return find_element(page_element).click()"
   ]
  },
  {
   "cell_type": "code",
   "execution_count": 6,
   "id": "545361d3",
   "metadata": {},
   "outputs": [],
   "source": [
    "#функция прокрутки(скроллинга) страницы до найденного элемента\n",
    "def scroll_to_element(page_element):\n",
    "    return driver.execute_script(\"arguments[0].scrollIntoView(true);\", find_element(page_element))"
   ]
  },
  {
   "cell_type": "code",
   "execution_count": 7,
   "id": "195afb60",
   "metadata": {},
   "outputs": [],
   "source": [
    "#функция получения уточненного списка CSS-селекторов в случае получения данных по нескольким значениям элемента атрибутов поиска\n",
    "#(например, выбор нескольких направлений специализаци и конкретных специальностей, выбор нескольких стран, регионов и городов)\n",
    "def sharp_list(css_sel, sharp_elements_list):\n",
    "    sharp_list = []\n",
    "    for i in sharp_elements_list:\n",
    "        sharp_element = css_sel.format(i)\n",
    "        sharp_list.append(sharp_element)\n",
    "    return sharp_list"
   ]
  },
  {
   "cell_type": "code",
   "execution_count": 8,
   "id": "c7a1bed4",
   "metadata": {},
   "outputs": [],
   "source": [
    "#функция определения уровней(грейдов) списка полученных вакансий \n",
    "def grade_determ(vac):\n",
    "    if ('junior' or 'jr') in vac:\n",
    "        return 'junior'\n",
    "    elif ('middle' or 'mid') in vac:\n",
    "        return 'middle'\n",
    "    elif ('senior' or 'sr') in vac:\n",
    "        return 'senior'\n",
    "    else:\n",
    "        return 'without_grade'"
   ]
  },
  {
   "cell_type": "markdown",
   "id": "2436293c",
   "metadata": {},
   "source": [
    "**Получении CSS-селекторов для создания необходимой структуры поиска по сайту**"
   ]
  },
  {
   "cell_type": "code",
   "execution_count": 9,
   "id": "2bce5531",
   "metadata": {},
   "outputs": [],
   "source": [
    "# кнопка cookie\n",
    "cookies_button = 'button[class=\"bloko-button bloko-button_kind-primary\"]'"
   ]
  },
  {
   "cell_type": "code",
   "execution_count": 10,
   "id": "5fd8968b",
   "metadata": {},
   "outputs": [],
   "source": [
    "#чек закрытия окна подтверждения выбора города (по имени класса)\n",
    "city_confirm_window_cls_chk  = 'div[data-qa = \"notification-close-button\"]'"
   ]
  },
  {
   "cell_type": "code",
   "execution_count": 11,
   "id": "351973a3",
   "metadata": {},
   "outputs": [],
   "source": [
    "#кнопка \"Расширенный поиск\"\n",
    "search_settings_btn = 'a[data-qa=\"advanced-search\"]'"
   ]
  },
  {
   "cell_type": "code",
   "execution_count": 12,
   "id": "d1e3f694",
   "metadata": {},
   "outputs": [],
   "source": [
    "#кнопка \"Указать специализацию\"\n",
    "exact_specialization_btn = 'button[data-qa = \"resumesearch__profroles-switcher\"]'"
   ]
  },
  {
   "cell_type": "code",
   "execution_count": 13,
   "id": "c56f97c7",
   "metadata": {},
   "outputs": [
    {
     "data": {
      "text/plain": [
       "['span[data-qa=\"bloko-tree-selector-toogle-node bloko-tree-selector-toogle-node-category-11\"][class=\"bloko-icon-link\"]']"
      ]
     },
     "execution_count": 13,
     "metadata": {},
     "output_type": "execute_result"
    }
   ],
   "source": [
    "#определение списка искомых напарвлений специализации пункта \"Специализация\" \n",
    "css_sel_specialization_up_lev = 'span[data-qa=\"bloko-tree-selector-toogle-node bloko-tree-selector-toogle-node-category-{}\"][class=\"bloko-icon-link\"]'\n",
    "sharp_elements_specialization_up_lev = [11]\n",
    "specialization_list_up_lev = sharp_list(css_sel_specialization_up_lev, sharp_elements_specialization_up_lev)\n",
    "specialization_list_up_lev"
   ]
  },
  {
   "cell_type": "markdown",
   "id": "40fac610",
   "metadata": {},
   "source": [
    "*Примечание:*\n",
    "\n",
    "data-qa=\"data-qa=\"bloko-tree-selector-toogle-node bloko-tree-selector-toogle-node-category-{}\"\" - атрибут выбора направления специализации тега span, где значения в {} - номер направления специализации согласно структуре источника, для примера:\n",
    "\n",
    "11 - Информационные технологии"
   ]
  },
  {
   "cell_type": "code",
   "execution_count": 14,
   "id": "f3d343e1",
   "metadata": {
    "scrolled": true
   },
   "outputs": [
    {
     "data": {
      "text/plain": [
       "['span[data-qa=\"bloko-tree-selector-item-text bloko-tree-selector-item-text-156\"][class=\"bloko-checkbox__text\"]',\n",
       " 'span[data-qa=\"bloko-tree-selector-item-text bloko-tree-selector-item-text-165\"][class=\"bloko-checkbox__text\"]']"
      ]
     },
     "execution_count": 14,
     "metadata": {},
     "output_type": "execute_result"
    }
   ],
   "source": [
    "#определение списка искомых узких специализаций в разделах направлений пункта \"Специализация\"\n",
    "css_sel_specialization_list_chek = 'span[data-qa=\"bloko-tree-selector-item-text bloko-tree-selector-item-text-{}\"][class=\"bloko-checkbox__text\"]'\n",
    "sharp_elements_specialization_list_chek = [156, 165]\n",
    "specialization_list = sharp_list(css_sel_specialization_list_chek, sharp_elements_specialization_list_chek)\n",
    "specialization_list"
   ]
  },
  {
   "cell_type": "markdown",
   "id": "7c23fe09",
   "metadata": {},
   "source": [
    "*Примечание:*\n",
    "\n",
    "data-qa=\"bloko-tree-selector-item-text bloko-tree-selector-item-text-{}\" - атрибут выбора специализации тега span, где значения в {} - номер специализации согласно структуре источника, для примера:\n",
    "\n",
    "156 - Анализ данных\n",
    "\n",
    "166 - Датасайнс"
   ]
  },
  {
   "cell_type": "code",
   "execution_count": 15,
   "id": "6bcef92b",
   "metadata": {},
   "outputs": [],
   "source": [
    "#кнопка \"Выбрать\" пункта \"Специализация\"\n",
    "select_specialization_btn = 'button[data-qa=\"bloko-tree-selector-popup-submit\"]'"
   ]
  },
  {
   "cell_type": "code",
   "execution_count": 16,
   "id": "956bab34",
   "metadata": {},
   "outputs": [],
   "source": [
    "#кнопка \"Корзина\" пункта \"Регион\"\n",
    "search_region_del_but = 'div[data-qa=\"advanced-search__selected-regions\"] > div > div > div > button'\n",
    "#div2 > input[type='checkbox']"
   ]
  },
  {
   "cell_type": "code",
   "execution_count": 17,
   "id": "6a78b636",
   "metadata": {
    "scrolled": true
   },
   "outputs": [],
   "source": [
    "#кнопка \"Список\" пункта \"Регион\"\n",
    "search_region_list_but= 'button[data-qa=\"advanced-search-region-selectFromList\"]'"
   ]
  },
  {
   "cell_type": "code",
   "execution_count": 18,
   "id": "238f470f",
   "metadata": {},
   "outputs": [],
   "source": [
    "#чек-бокс \"Россия\" пункта \"Регион\"\n",
    "search_region_rus_chek= 'span[data-qa=\"bloko-tree-selector-item-text bloko-tree-selector-item-text-113\"]'"
   ]
  },
  {
   "cell_type": "code",
   "execution_count": 19,
   "id": "3f00a28a",
   "metadata": {},
   "outputs": [
    {
     "data": {
      "text/plain": [
       "['span[data-qa=\"bloko-tree-selector-toogle-node bloko-tree-selector-toogle-node-113\"]']"
      ]
     },
     "execution_count": 19,
     "metadata": {},
     "output_type": "execute_result"
    }
   ],
   "source": [
    "#определение списка стран для поиска\n",
    "css_sel_countries_list = 'span[data-qa=\"bloko-tree-selector-toogle-node bloko-tree-selector-toogle-node-{}\"]'\n",
    "sharp_elements_countries_list = [113]\n",
    "countries_list = sharp_list(css_sel_countries_list, sharp_elements_countries_list)\n",
    "countries_list"
   ]
  },
  {
   "cell_type": "markdown",
   "id": "4644f106",
   "metadata": {},
   "source": [
    "*Примечание:*\n",
    "\n",
    "qata-qa=\"bloko-tree-selector-toogle-node bloko-tree-selector-toogle-node-{}\" - атрибут выбора страны тега span, где значения в {} - номер страны согласно структуре источника:\n",
    "\n",
    "9    - Айзербайджан\n",
    "\n",
    "16   - Беларусь\n",
    "\n",
    "28   - Грузия\n",
    "\n",
    "40   - Казахстан\n",
    "\n",
    "48   - Кыргызстан\n",
    "\n",
    "113  - Россия\n",
    "\n",
    "97   - Узбекистан\n",
    "\n",
    "5    - Украина\n",
    "\n",
    "1001 - другие регионы\n"
   ]
  },
  {
   "cell_type": "code",
   "execution_count": 20,
   "id": "1b578825",
   "metadata": {},
   "outputs": [
    {
     "data": {
      "text/plain": [
       "['span[data-qa=\"bloko-tree-selector-toogle-node bloko-tree-selector-toogle-node-1679\"]']"
      ]
     },
     "execution_count": 20,
     "metadata": {},
     "output_type": "execute_result"
    }
   ],
   "source": [
    "css_sel_regions_list = 'span[data-qa=\"bloko-tree-selector-toogle-node bloko-tree-selector-toogle-node-{}\"]'\n",
    "sharp_elements_regions_list = [1679]\n",
    "regions_list = sharp_list(css_sel_regions_list, sharp_elements_regions_list)\n",
    "regions_list"
   ]
  },
  {
   "cell_type": "markdown",
   "id": "669ab1d5",
   "metadata": {},
   "source": [
    "*Примечание:*\n",
    "\n",
    "data-qa=\"bloko-tree-selector-toogle-node bloko-tree-selector-toogle-node-{}\" - атрибут выбора региона тега span, где значения в {} - номер региона согласно структуре источника, для примера:\n",
    "\n",
    "1679 - Нижегородская область"
   ]
  },
  {
   "cell_type": "code",
   "execution_count": 21,
   "id": "ce3686c0",
   "metadata": {},
   "outputs": [
    {
     "data": {
      "text/plain": [
       "['span[data-qa=\"bloko-tree-selector-item-text bloko-tree-selector-item-text-1\"]',\n",
       " 'span[data-qa=\"bloko-tree-selector-item-text bloko-tree-selector-item-text-66\"]']"
      ]
     },
     "execution_count": 21,
     "metadata": {},
     "output_type": "execute_result"
    }
   ],
   "source": [
    "css_sel_cities_list = 'span[data-qa=\"bloko-tree-selector-item-text bloko-tree-selector-item-text-{}\"]'\n",
    "sharp_elements_cities_list = [1, 66]\n",
    "cities_list = sharp_list(css_sel_cities_list, sharp_elements_cities_list)\n",
    "cities_list"
   ]
  },
  {
   "cell_type": "markdown",
   "id": "f4584eb5",
   "metadata": {},
   "source": [
    "*Примечание:*\n",
    "\n",
    "data-qa=\"bloko-tree-selector-item-text bloko-tree-selector-item-text-{}\" - атрибут выбора населенного пункта тега span, где значения в {}- номер населенного пункта согласно структуре источника, для примера:\n",
    "\n",
    "1  - Москва\n",
    "\n",
    "66 - Нижний Новогород"
   ]
  },
  {
   "cell_type": "code",
   "execution_count": 22,
   "id": "069fa634",
   "metadata": {},
   "outputs": [],
   "source": [
    "#кнопка \"Выбрать\" пункта \"Регион\"\n",
    "search_regions_cities_select_but = 'button[data-qa=\"bloko-tree-selector-popup-submit\"]'"
   ]
  },
  {
   "cell_type": "code",
   "execution_count": 23,
   "id": "40b11eca",
   "metadata": {},
   "outputs": [],
   "source": [
    "#кнопка \"Найти\"  \"поиска вакансий\"\n",
    "search_btn = 'button[data-qa=\"advanced-search-submit-button\"]'"
   ]
  },
  {
   "cell_type": "code",
   "execution_count": 24,
   "id": "28176f03",
   "metadata": {
    "code_folding": [
     0
    ],
    "scrolled": true
   },
   "outputs": [
    {
     "data": {
      "text/plain": [
       "['div[data-qa = \"notification-close-button\"]',\n",
       " 'a[data-qa=\"advanced-search\"]',\n",
       " 'button[data-qa = \"resumesearch__profroles-switcher\"]',\n",
       " 'span[data-qa=\"bloko-tree-selector-toogle-node bloko-tree-selector-toogle-node-category-11\"][class=\"bloko-icon-link\"]',\n",
       " 'span[data-qa=\"bloko-tree-selector-item-text bloko-tree-selector-item-text-156\"][class=\"bloko-checkbox__text\"]',\n",
       " 'span[data-qa=\"bloko-tree-selector-item-text bloko-tree-selector-item-text-165\"][class=\"bloko-checkbox__text\"]',\n",
       " 'button[data-qa=\"bloko-tree-selector-popup-submit\"]',\n",
       " 'div[data-qa=\"advanced-search__selected-regions\"] > div > div > div > button',\n",
       " 'button[data-qa=\"advanced-search-region-selectFromList\"]',\n",
       " 'span[data-qa=\"bloko-tree-selector-toogle-node bloko-tree-selector-toogle-node-113\"]',\n",
       " 'span[data-qa=\"bloko-tree-selector-toogle-node bloko-tree-selector-toogle-node-1679\"]',\n",
       " 'span[data-qa=\"bloko-tree-selector-item-text bloko-tree-selector-item-text-1\"]',\n",
       " 'span[data-qa=\"bloko-tree-selector-item-text bloko-tree-selector-item-text-66\"]',\n",
       " 'button[data-qa=\"bloko-tree-selector-popup-submit\"]',\n",
       " 'button[data-qa=\"advanced-search-submit-button\"]']"
      ]
     },
     "execution_count": 24,
     "metadata": {},
     "output_type": "execute_result"
    }
   ],
   "source": [
    "#конечный список необходимых для навигации по сайту CSS-селекторов\n",
    "css_selector_list = [city_confirm_window_cls_chk, search_settings_btn, exact_specialization_btn] + specialization_list_up_lev + specialization_list + [select_specialization_btn, search_region_del_but, search_region_list_but] + countries_list + regions_list + cities_list + [search_regions_cities_select_but, search_btn]\n",
    "css_selector_list"
   ]
  },
  {
   "cell_type": "markdown",
   "id": "59465137",
   "metadata": {},
   "source": [
    "**Цикл навигации по сайту по заложенным параметрам поиска**"
   ]
  },
  {
   "cell_type": "code",
   "execution_count": 25,
   "id": "ae69dbea",
   "metadata": {},
   "outputs": [],
   "source": [
    "try:\n",
    "    scroll_to_element(cookies_button)\n",
    "    click_element(cookies_button)\n",
    "    \n",
    "finally:\n",
    "    for i in css_selector_list:\n",
    "        scroll_to_element(i)\n",
    "        click_element(i)"
   ]
  },
  {
   "cell_type": "markdown",
   "id": "615a9fec",
   "metadata": {},
   "source": [
    "**Блок обработки списка полученных вакансий и вывод результатов**"
   ]
  },
  {
   "cell_type": "code",
   "execution_count": 26,
   "id": "5e8e8cfb",
   "metadata": {},
   "outputs": [],
   "source": [
    "vacancies = driver.find_elements(By.CLASS_NAME, \"serp-item__title\")"
   ]
  },
  {
   "cell_type": "code",
   "execution_count": 27,
   "id": "e2557db3",
   "metadata": {},
   "outputs": [],
   "source": [
    "vacancies_list = list(map(lambda x: x.text.lower(), vacancies))"
   ]
  },
  {
   "cell_type": "code",
   "execution_count": 28,
   "id": "469255a6",
   "metadata": {},
   "outputs": [],
   "source": [
    "driver.close()"
   ]
  },
  {
   "cell_type": "code",
   "execution_count": 29,
   "id": "8799302b",
   "metadata": {},
   "outputs": [
    {
     "name": "stdout",
     "output_type": "stream",
     "text": [
      "\u001b[1mПеречень полученных вакансий:\u001b[0m \n",
      "\n",
      "0                      разработчик qliksense (удаленно)\n",
      "1     специалист по работе с данными (автобизнес, ав...\n",
      "2                                 junior data scientist\n",
      "3                                     data scientist ml\n",
      "4                 аналитик данных junior (crm/campaign)\n",
      "5                                        data scientist\n",
      "6                                   junior data analyst\n",
      "7            практикант (продуктовая аналитика (excel))\n",
      "8                               data-science-специалист\n",
      "9                                        инженер данных\n",
      "10                                        дата-аналитик\n",
      "11                         data analyst/аналитик данных\n",
      "12                                             аналитик\n",
      "13                         data scientist \\ ml engineer\n",
      "14                          аналитик данных sql (риски)\n",
      "15                                          ml engineer\n",
      "16                                      аналитик данных\n",
      "17                                      аналитик данных\n",
      "18                                      аналитик данных\n",
      "19                          аналитик данных/аналитик bi\n",
      "20                                          аналитик bi\n",
      "21                                      стажер аналитик\n",
      "22                                      аналитик данных\n",
      "23                                       data scientist\n",
      "24                                         data analyst\n",
      "25                                 ml engineer (стажер)\n",
      "26                     junior data analyst/bi developer\n",
      "27                       data analyst / аналитик данных\n",
      "28                                         ml developer\n",
      "29                                         data science\n",
      "30                                  junior data analyst\n",
      "31    младший разработчик по computer vision (junior...\n",
      "32                            аналитик направления кино\n",
      "33                            data scientist (штаб в2с)\n",
      "34                                    middle bi analyst\n",
      "35       аналитик в службу заботы о клиентах (удаленно)\n",
      "36                                      аналитик данных\n",
      "37                                         аналитик dwh\n",
      "38                                      аналитик данных\n",
      "39                              аналитик pbi (удалённо)\n",
      "40                           data analyst (сберспасибо)\n",
      "41                                             аналитик\n",
      "42                                       bi-разработчик\n",
      "43                                        data engineer\n",
      "44                               аналитик по отчетности\n",
      "45                  data sсientist (команда маркетинга)\n",
      "46                                директор по аналитике\n",
      "47    младший аналитик, группа бизнес-партнерства и ...\n",
      "48                                        ml специалист\n",
      "49    data scientist (decision making and portfolio ...\n",
      "50                                      бизнес аналитик\n",
      "dtype: object\n"
     ]
    }
   ],
   "source": [
    "print('\\033[1m' + 'Перечень полученных вакансий:' + '\\033[0m', '\\n')\n",
    "print(pd.Series(vacancies_list))"
   ]
  },
  {
   "cell_type": "code",
   "execution_count": 30,
   "id": "c1be2c54",
   "metadata": {},
   "outputs": [],
   "source": [
    "vac_grades = pd.Series(vacancies_list).apply(grade_determ).value_counts()"
   ]
  },
  {
   "cell_type": "code",
   "execution_count": 31,
   "id": "26544e44",
   "metadata": {},
   "outputs": [
    {
     "name": "stdout",
     "output_type": "stream",
     "text": [
      "\u001b[1mИнформация о грейдах в объеме полученных вакансий\u001b[0m \n",
      "\n",
      "without_grade    44\n",
      "junior            6\n",
      "middle            1\n",
      "dtype: int64\n"
     ]
    }
   ],
   "source": [
    "print('\\033[1m' + 'Информация о грейдах в объеме полученных вакансий' + '\\033[0m', '\\n')\n",
    "print(vac_grades)"
   ]
  }
 ],
 "metadata": {
  "kernelspec": {
   "display_name": "Python 3 (ipykernel)",
   "language": "python",
   "name": "python3"
  },
  "language_info": {
   "codemirror_mode": {
    "name": "ipython",
    "version": 3
   },
   "file_extension": ".py",
   "mimetype": "text/x-python",
   "name": "python",
   "nbconvert_exporter": "python",
   "pygments_lexer": "ipython3",
   "version": "3.11.4"
  },
  "toc": {
   "base_numbering": 1,
   "nav_menu": {},
   "number_sections": true,
   "sideBar": true,
   "skip_h1_title": false,
   "title_cell": "Table of Contents",
   "title_sidebar": "Contents",
   "toc_cell": false,
   "toc_position": {},
   "toc_section_display": true,
   "toc_window_display": false
  }
 },
 "nbformat": 4,
 "nbformat_minor": 5
}
